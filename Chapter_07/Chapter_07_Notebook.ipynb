{
 "cells": [
  {
   "cell_type": "markdown",
   "id": "7c130e70",
   "metadata": {},
   "source": [
    "# Chapter 7."
   ]
  },
  {
   "cell_type": "markdown",
   "id": "5746cfd4",
   "metadata": {},
   "source": [
    "## Ensemble Learning and Random Forests"
   ]
  },
  {
   "cell_type": "code",
   "execution_count": 1,
   "id": "a6ad1cac",
   "metadata": {},
   "outputs": [],
   "source": [
    "from sklearn.ensemble import RandomForestClassifier\n",
    "from sklearn.ensemble import VotingClassifier\n",
    "from sklearn.linear_model import LogisticRegression\n",
    "from sklearn.svm import SVC\n",
    "from sklearn.datasets import make_moons\n",
    "from sklearn.model_selection import train_test_split\n",
    "from sklearn.metrics import accuracy_score\n",
    "from sklearn.ensemble import BaggingClassifier\n",
    "from sklearn.tree import DecisionTreeClassifier"
   ]
  },
  {
   "cell_type": "code",
   "execution_count": 2,
   "id": "7e996dba",
   "metadata": {},
   "outputs": [],
   "source": [
    "X, y = make_moons(n_samples=100000, noise=0.15)\n",
    "X_train, X_test, y_train, y_test = train_test_split(X, y, test_size=0.2, random_state=42)"
   ]
  },
  {
   "cell_type": "code",
   "execution_count": 3,
   "id": "a8d1f573",
   "metadata": {},
   "outputs": [
    {
     "data": {
      "text/html": [
       "<style>#sk-container-id-1 {color: black;background-color: white;}#sk-container-id-1 pre{padding: 0;}#sk-container-id-1 div.sk-toggleable {background-color: white;}#sk-container-id-1 label.sk-toggleable__label {cursor: pointer;display: block;width: 100%;margin-bottom: 0;padding: 0.3em;box-sizing: border-box;text-align: center;}#sk-container-id-1 label.sk-toggleable__label-arrow:before {content: \"▸\";float: left;margin-right: 0.25em;color: #696969;}#sk-container-id-1 label.sk-toggleable__label-arrow:hover:before {color: black;}#sk-container-id-1 div.sk-estimator:hover label.sk-toggleable__label-arrow:before {color: black;}#sk-container-id-1 div.sk-toggleable__content {max-height: 0;max-width: 0;overflow: hidden;text-align: left;background-color: #f0f8ff;}#sk-container-id-1 div.sk-toggleable__content pre {margin: 0.2em;color: black;border-radius: 0.25em;background-color: #f0f8ff;}#sk-container-id-1 input.sk-toggleable__control:checked~div.sk-toggleable__content {max-height: 200px;max-width: 100%;overflow: auto;}#sk-container-id-1 input.sk-toggleable__control:checked~label.sk-toggleable__label-arrow:before {content: \"▾\";}#sk-container-id-1 div.sk-estimator input.sk-toggleable__control:checked~label.sk-toggleable__label {background-color: #d4ebff;}#sk-container-id-1 div.sk-label input.sk-toggleable__control:checked~label.sk-toggleable__label {background-color: #d4ebff;}#sk-container-id-1 input.sk-hidden--visually {border: 0;clip: rect(1px 1px 1px 1px);clip: rect(1px, 1px, 1px, 1px);height: 1px;margin: -1px;overflow: hidden;padding: 0;position: absolute;width: 1px;}#sk-container-id-1 div.sk-estimator {font-family: monospace;background-color: #f0f8ff;border: 1px dotted black;border-radius: 0.25em;box-sizing: border-box;margin-bottom: 0.5em;}#sk-container-id-1 div.sk-estimator:hover {background-color: #d4ebff;}#sk-container-id-1 div.sk-parallel-item::after {content: \"\";width: 100%;border-bottom: 1px solid gray;flex-grow: 1;}#sk-container-id-1 div.sk-label:hover label.sk-toggleable__label {background-color: #d4ebff;}#sk-container-id-1 div.sk-serial::before {content: \"\";position: absolute;border-left: 1px solid gray;box-sizing: border-box;top: 0;bottom: 0;left: 50%;z-index: 0;}#sk-container-id-1 div.sk-serial {display: flex;flex-direction: column;align-items: center;background-color: white;padding-right: 0.2em;padding-left: 0.2em;position: relative;}#sk-container-id-1 div.sk-item {position: relative;z-index: 1;}#sk-container-id-1 div.sk-parallel {display: flex;align-items: stretch;justify-content: center;background-color: white;position: relative;}#sk-container-id-1 div.sk-item::before, #sk-container-id-1 div.sk-parallel-item::before {content: \"\";position: absolute;border-left: 1px solid gray;box-sizing: border-box;top: 0;bottom: 0;left: 50%;z-index: -1;}#sk-container-id-1 div.sk-parallel-item {display: flex;flex-direction: column;z-index: 1;position: relative;background-color: white;}#sk-container-id-1 div.sk-parallel-item:first-child::after {align-self: flex-end;width: 50%;}#sk-container-id-1 div.sk-parallel-item:last-child::after {align-self: flex-start;width: 50%;}#sk-container-id-1 div.sk-parallel-item:only-child::after {width: 0;}#sk-container-id-1 div.sk-dashed-wrapped {border: 1px dashed gray;margin: 0 0.4em 0.5em 0.4em;box-sizing: border-box;padding-bottom: 0.4em;background-color: white;}#sk-container-id-1 div.sk-label label {font-family: monospace;font-weight: bold;display: inline-block;line-height: 1.2em;}#sk-container-id-1 div.sk-label-container {text-align: center;}#sk-container-id-1 div.sk-container {/* jupyter's `normalize.less` sets `[hidden] { display: none; }` but bootstrap.min.css set `[hidden] { display: none !important; }` so we also need the `!important` here to be able to override the default hidden behavior on the sphinx rendered scikit-learn.org. See: https://github.com/scikit-learn/scikit-learn/issues/21755 */display: inline-block !important;position: relative;}#sk-container-id-1 div.sk-text-repr-fallback {display: none;}</style><div id=\"sk-container-id-1\" class=\"sk-top-container\"><div class=\"sk-text-repr-fallback\"><pre>VotingClassifier(estimators=[(&#x27;lr&#x27;, LogisticRegression()),\n",
       "                             (&#x27;rf&#x27;, RandomForestClassifier()), (&#x27;svc&#x27;, SVC())])</pre><b>In a Jupyter environment, please rerun this cell to show the HTML representation or trust the notebook. <br />On GitHub, the HTML representation is unable to render, please try loading this page with nbviewer.org.</b></div><div class=\"sk-container\" hidden><div class=\"sk-item sk-dashed-wrapped\"><div class=\"sk-label-container\"><div class=\"sk-label sk-toggleable\"><input class=\"sk-toggleable__control sk-hidden--visually\" id=\"sk-estimator-id-1\" type=\"checkbox\" ><label for=\"sk-estimator-id-1\" class=\"sk-toggleable__label sk-toggleable__label-arrow\">VotingClassifier</label><div class=\"sk-toggleable__content\"><pre>VotingClassifier(estimators=[(&#x27;lr&#x27;, LogisticRegression()),\n",
       "                             (&#x27;rf&#x27;, RandomForestClassifier()), (&#x27;svc&#x27;, SVC())])</pre></div></div></div><div class=\"sk-parallel\"><div class=\"sk-parallel-item\"><div class=\"sk-item\"><div class=\"sk-label-container\"><div class=\"sk-label sk-toggleable\"><label>lr</label></div></div><div class=\"sk-serial\"><div class=\"sk-item\"><div class=\"sk-estimator sk-toggleable\"><input class=\"sk-toggleable__control sk-hidden--visually\" id=\"sk-estimator-id-2\" type=\"checkbox\" ><label for=\"sk-estimator-id-2\" class=\"sk-toggleable__label sk-toggleable__label-arrow\">LogisticRegression</label><div class=\"sk-toggleable__content\"><pre>LogisticRegression()</pre></div></div></div></div></div></div><div class=\"sk-parallel-item\"><div class=\"sk-item\"><div class=\"sk-label-container\"><div class=\"sk-label sk-toggleable\"><label>rf</label></div></div><div class=\"sk-serial\"><div class=\"sk-item\"><div class=\"sk-estimator sk-toggleable\"><input class=\"sk-toggleable__control sk-hidden--visually\" id=\"sk-estimator-id-3\" type=\"checkbox\" ><label for=\"sk-estimator-id-3\" class=\"sk-toggleable__label sk-toggleable__label-arrow\">RandomForestClassifier</label><div class=\"sk-toggleable__content\"><pre>RandomForestClassifier()</pre></div></div></div></div></div></div><div class=\"sk-parallel-item\"><div class=\"sk-item\"><div class=\"sk-label-container\"><div class=\"sk-label sk-toggleable\"><label>svc</label></div></div><div class=\"sk-serial\"><div class=\"sk-item\"><div class=\"sk-estimator sk-toggleable\"><input class=\"sk-toggleable__control sk-hidden--visually\" id=\"sk-estimator-id-4\" type=\"checkbox\" ><label for=\"sk-estimator-id-4\" class=\"sk-toggleable__label sk-toggleable__label-arrow\">SVC</label><div class=\"sk-toggleable__content\"><pre>SVC()</pre></div></div></div></div></div></div></div></div></div></div>"
      ],
      "text/plain": [
       "VotingClassifier(estimators=[('lr', LogisticRegression()),\n",
       "                             ('rf', RandomForestClassifier()), ('svc', SVC())])"
      ]
     },
     "execution_count": 3,
     "metadata": {},
     "output_type": "execute_result"
    }
   ],
   "source": [
    "# declare 3 classifiers independently\n",
    "log_clf = LogisticRegression()\n",
    "rnd_clf = RandomForestClassifier()\n",
    "svm_clf = SVC()\n",
    "\n",
    "# then create an ensemble classifier with \n",
    "# those 3 classifiers and train it\n",
    "voting_clf = VotingClassifier(\n",
    "    estimators=[('lr', log_clf), ('rf', rnd_clf), ('svc', svm_clf)],\n",
    "    voting='hard'\n",
    ")\n",
    "\n",
    "voting_clf.fit(X_train, y_train)"
   ]
  },
  {
   "cell_type": "code",
   "execution_count": 4,
   "id": "94e358a6",
   "metadata": {},
   "outputs": [
    {
     "name": "stdout",
     "output_type": "stream",
     "text": [
      "LogisticRegression 0.8758\n",
      "RandomForestClassifier 0.9893\n",
      "SVC 0.9902\n",
      "VotingClassifier 0.9901\n"
     ]
    }
   ],
   "source": [
    "# test the accuracy of each classifier and the ensemble classifier\n",
    "for clf in (log_clf, rnd_clf, svm_clf, voting_clf):\n",
    "    clf.fit(X_train, y_train)\n",
    "    y_pred = clf.predict(X_test)\n",
    "    print(clf.__class__.__name__, accuracy_score(y_test, y_pred)) # the voting_clf slightly outperfoms the other 3"
   ]
  },
  {
   "cell_type": "code",
   "execution_count": 5,
   "id": "c4918a0c",
   "metadata": {},
   "outputs": [
    {
     "data": {
      "text/plain": [
       "0.97465"
      ]
     },
     "execution_count": 5,
     "metadata": {},
     "output_type": "execute_result"
    }
   ],
   "source": [
    "bag_clf = BaggingClassifier(\n",
    "    DecisionTreeClassifier(), # the type of classifier to fit\n",
    "    n_estimators=500, # in this case, 500 decision trees\n",
    "    max_samples=100, # each predictor is trained on 100 training instances\n",
    "    bootstrap=True, # WITH replacement\n",
    "    n_jobs=-1, # -1 means: use all available cores\n",
    "    oob_score=True # score with out-of-bag instances\n",
    ")\n",
    "\n",
    "bag_clf.fit(X_train, y_train)\n",
    "# the oob_score gives us the approximation as if we predict using the test set\n",
    "bag_clf.oob_score_ "
   ]
  },
  {
   "cell_type": "markdown",
   "id": "bbbb6557",
   "metadata": {},
   "source": [
    "### Note:\n",
    "With Random Forests you can measure the relative importance of each feature. Scikit-learn measures the feature's importance by looking at how much the tree nodes that use that feature reduce **impurity** on average"
   ]
  },
  {
   "cell_type": "code",
   "execution_count": 7,
   "id": "c1071a0d",
   "metadata": {},
   "outputs": [
    {
     "name": "stdout",
     "output_type": "stream",
     "text": [
      "sepal length (cm) 10.342835424946417\n",
      "sepal width (cm) 2.623617409818954\n",
      "petal length (cm) 40.60955925820296\n",
      "petal width (cm) 46.423987907031666\n"
     ]
    }
   ],
   "source": [
    "from sklearn.datasets import load_iris\n",
    "\n",
    "iris = load_iris() # load iris dataset\n",
    "\n",
    "rnd_clf = RandomForestClassifier(n_estimators=500, n_jobs=-1)\n",
    "\n",
    "rnd_clf.fit(iris['data'], iris['target'])\n",
    "for name, score in zip(iris['feature_names'], rnd_clf.feature_importances_):\n",
    "    # print the importance (in percentage) of each feature\n",
    "    print(name, score * 100)"
   ]
  },
  {
   "cell_type": "markdown",
   "id": "f8b0c043-7204-43ab-af9f-d20b4d128c51",
   "metadata": {},
   "source": [
    "## Exercises"
   ]
  },
  {
   "cell_type": "markdown",
   "id": "7fb61c76-1f54-47e6-a380-06b01ec40aca",
   "metadata": {},
   "source": [
    "### Question 1\n",
    "If you have trained five different models on the exact same training data, and they all achieve 95% precision, is there any chance that you can combine these models to get better results? If so, how? If not, why?\n",
    "\n",
    "**My Answer**: It is possible that the ensemble precision can increase because each model will make different errors on the same data. \n",
    "\n",
    "**Book's Answer:** \"If you have trained five different models and they all achieve 95% precision, you can try combining them into a **voting ensemble**, which will often give you even better results. It works better if the models are very different. It is even better if they are trained on different training instances (bagging and pasting ensembles), but if not, this will still be effective as long as **the models are different**.\""
   ]
  },
  {
   "cell_type": "markdown",
   "id": "5255f18e-9d7e-4a93-9c29-9fc77618a130",
   "metadata": {},
   "source": [
    "### Question 2\n",
    "What is the difference between hard and soft voting classifiers?\n",
    "\n",
    "**My Answer**: A **hard voting classifier** aggregates the predictions of each classifier and predict the class that gets the most votes, while the **soft voting classifier** predicts the class with the **highest** probability (all the classifiers need the *dict_proba()* method for this).\n",
    "\n",
    "**Book's Answer**: \"A hard voting classifier just counts the votes of each classifier in the ensemble and picks the class that gets the most votes. A soft voting classifier computes the average estimated class probability for each class and picks the class with the highest probability. This gives high-confidence votes more weight and often performs better, but works only if every classifier is able to estimate class probabilities.\""
   ]
  },
  {
   "cell_type": "markdown",
   "id": "d1148613-869b-408d-ae54-c76d9f031b85",
   "metadata": {},
   "source": [
    "### Question 3\n",
    "It is possible to speed up training of a bagging ensemble by distributing it across multiple servers? What about pasting ensembles, boosting ensembles, Random Forests, or stacking ensembles?\n",
    "\n",
    "**My Answer**: Both bagging and pasting ensembles can be trained across multiple servers because predictors are completely independent from one another. Actually, they can also perform in parallel. In the other hand, boosting **CAN'T** be trained in parallel because predictors are trained sequentially, each trying to correct its predecessor. Finally, random forests can also be trained in parallel and a stacking ensemble CAN'T be trained in parallel because the *blender* needs the output of the first layer of predictors. \n",
    "\n",
    "**Book's Answer**: \"It is quite possible to speed up training of a bagging ensemble by distributing it across multiple servers, since each predictor in the ensemble is independent of the others. The same goes for pasting ensembles and random forests, for the same reason. However, each predictor in a boosting ensemble is built based on the previos predictor, so training is necessarily sequential, and you will not gain anything by distributing training across multiple servers. Regarding stacking ensembles, all the predictors in a given layer are independent of each other, so **they can be trained in parallel on multiple servers**. HOWEVER, the predictors in one layer can only be trained after the predictors in the previous layer have all been trained.\""
   ]
  },
  {
   "cell_type": "markdown",
   "id": "12d6799e-9895-4399-a5c3-3c804633b00c",
   "metadata": {},
   "source": [
    "### Question 4\n",
    "What is the benefit of out-of-bag evaluation?\n",
    "\n",
    "**My Answer**: With out-of-bag evaluation, there's no need of a validation set, which in some cases when working with a small dataset, can be beneficial.\n",
    "\n",
    "**Book's Answer**: \"With out-of-bag evaluation, each predictor in a bagging ensemble is evaluated using instances that it was NOT trained on (they were held out). This makes it possible to have fairly unbiased evaluation of the ensemble without the need for an additional validation set. Thus, you have more instances available for training (**or testing?**), and your ensemble can perform slightly better.\""
   ]
  },
  {
   "cell_type": "markdown",
   "id": "e9ca8a56-9f8b-4e82-ad80-5ea897ef4efd",
   "metadata": {},
   "source": [
    "### Question 5\n",
    "What makes Extra-Trees more random than regular Random Forests? How can this extra randomness help? Are Extra-Trees slower or faster than regular Random Forests?\n",
    "\n",
    "**My Answer**: Extra-Trees are faster because they use random thresholds for each feature rather than searching the best possible one. This characteristic comes with more BIAS for the model.\n",
    "\n",
    "**Book's Answer**: \"When you are growing a tree in a Random Forest, only a random subset of the features is considered for splitting at each node. This is true as well for Extra-Trees, but they go one step further: rather than searching for the best possible thresholds, like regular Decision Trees do, they use random thresholds for each feature. This extra randomness acts like a form of regularization: **if a Random Forest overfits the training data, Extra-Trees might perform better**.\""
   ]
  },
  {
   "cell_type": "markdown",
   "id": "3d4b24f4-d78b-4adc-ac87-279a5c5af2dc",
   "metadata": {},
   "source": [
    "### Question 6\n",
    "If your AdaBoost ensemble underfits the training data, which hyperparameters should you tweak and how?\n",
    "\n",
    "**My Answer**: If an AdaBoost ensemble is underfitting, INCREASING the number of estimators (*n_estimators*) may be a good idea. \n",
    "\n",
    "**Book's Answer**: \"If your AdaBoost ensemble underfits the training data, you can try increasing the number of estimators or reducing the regularization hyperparameters of the base estimator. You may also try slightly increasing the learning rate.\""
   ]
  },
  {
   "cell_type": "markdown",
   "id": "60c0e422-544e-453d-8a32-8757fca48502",
   "metadata": {},
   "source": [
    "### Question 7\n",
    "If your Gradient Boosting ensemble overfits the training set, should you increase or decrease the learning rate?\n",
    "\n",
    "**My Answer**: If the ensemble is overfitting the training set, the learning_rate needs to be DECREASED. The learning_rate hyperparameter scales the contribution of each tree, so each tree needs to \"weight\" less. \n",
    "\n",
    "**Book's Answer**: \"If your Gradient Boosting ensemble overfits the training set, you should try decreasing the learning rate. You could also use early stopping to find the right number of predictors (you probably have too many).\""
   ]
  },
  {
   "cell_type": "markdown",
   "id": "2da3e660-c720-4932-9502-a9281e064d27",
   "metadata": {},
   "source": [
    "### Question 8"
   ]
  },
  {
   "cell_type": "code",
   "execution_count": 1,
   "id": "bfb27dc8-f3ec-470c-8b36-38c801d49e94",
   "metadata": {},
   "outputs": [],
   "source": [
    "# load mnist\n",
    "from sklearn.datasets import fetch_openml\n",
    "\n",
    "mnist = fetch_openml('mnist_784', version=1)\n",
    "X, y = mnist['data'], mnist['target']"
   ]
  },
  {
   "cell_type": "code",
   "execution_count": 9,
   "id": "6cfcfa5b-c2b3-4ec2-a508-3dfc550e21d9",
   "metadata": {},
   "outputs": [],
   "source": [
    "# split train, test and validation sets\n",
    "from sklearn.model_selection import train_test_split\n",
    "\n",
    "X_batch, X_test, y_batch, y_test = train_test_split(X, y, test_size=0.14, random_state=42)\n",
    "X_train, X_validate, y_train, y_validate = train_test_split(X_batch, y_batch, test_size=0.16, random_state=42)"
   ]
  },
  {
   "cell_type": "code",
   "execution_count": 16,
   "id": "1ccedbe3-88d9-4672-9397-0fa7171de96c",
   "metadata": {},
   "outputs": [
    {
     "data": {
      "text/html": [
       "<style>#sk-container-id-3 {color: black;background-color: white;}#sk-container-id-3 pre{padding: 0;}#sk-container-id-3 div.sk-toggleable {background-color: white;}#sk-container-id-3 label.sk-toggleable__label {cursor: pointer;display: block;width: 100%;margin-bottom: 0;padding: 0.3em;box-sizing: border-box;text-align: center;}#sk-container-id-3 label.sk-toggleable__label-arrow:before {content: \"▸\";float: left;margin-right: 0.25em;color: #696969;}#sk-container-id-3 label.sk-toggleable__label-arrow:hover:before {color: black;}#sk-container-id-3 div.sk-estimator:hover label.sk-toggleable__label-arrow:before {color: black;}#sk-container-id-3 div.sk-toggleable__content {max-height: 0;max-width: 0;overflow: hidden;text-align: left;background-color: #f0f8ff;}#sk-container-id-3 div.sk-toggleable__content pre {margin: 0.2em;color: black;border-radius: 0.25em;background-color: #f0f8ff;}#sk-container-id-3 input.sk-toggleable__control:checked~div.sk-toggleable__content {max-height: 200px;max-width: 100%;overflow: auto;}#sk-container-id-3 input.sk-toggleable__control:checked~label.sk-toggleable__label-arrow:before {content: \"▾\";}#sk-container-id-3 div.sk-estimator input.sk-toggleable__control:checked~label.sk-toggleable__label {background-color: #d4ebff;}#sk-container-id-3 div.sk-label input.sk-toggleable__control:checked~label.sk-toggleable__label {background-color: #d4ebff;}#sk-container-id-3 input.sk-hidden--visually {border: 0;clip: rect(1px 1px 1px 1px);clip: rect(1px, 1px, 1px, 1px);height: 1px;margin: -1px;overflow: hidden;padding: 0;position: absolute;width: 1px;}#sk-container-id-3 div.sk-estimator {font-family: monospace;background-color: #f0f8ff;border: 1px dotted black;border-radius: 0.25em;box-sizing: border-box;margin-bottom: 0.5em;}#sk-container-id-3 div.sk-estimator:hover {background-color: #d4ebff;}#sk-container-id-3 div.sk-parallel-item::after {content: \"\";width: 100%;border-bottom: 1px solid gray;flex-grow: 1;}#sk-container-id-3 div.sk-label:hover label.sk-toggleable__label {background-color: #d4ebff;}#sk-container-id-3 div.sk-serial::before {content: \"\";position: absolute;border-left: 1px solid gray;box-sizing: border-box;top: 0;bottom: 0;left: 50%;z-index: 0;}#sk-container-id-3 div.sk-serial {display: flex;flex-direction: column;align-items: center;background-color: white;padding-right: 0.2em;padding-left: 0.2em;position: relative;}#sk-container-id-3 div.sk-item {position: relative;z-index: 1;}#sk-container-id-3 div.sk-parallel {display: flex;align-items: stretch;justify-content: center;background-color: white;position: relative;}#sk-container-id-3 div.sk-item::before, #sk-container-id-3 div.sk-parallel-item::before {content: \"\";position: absolute;border-left: 1px solid gray;box-sizing: border-box;top: 0;bottom: 0;left: 50%;z-index: -1;}#sk-container-id-3 div.sk-parallel-item {display: flex;flex-direction: column;z-index: 1;position: relative;background-color: white;}#sk-container-id-3 div.sk-parallel-item:first-child::after {align-self: flex-end;width: 50%;}#sk-container-id-3 div.sk-parallel-item:last-child::after {align-self: flex-start;width: 50%;}#sk-container-id-3 div.sk-parallel-item:only-child::after {width: 0;}#sk-container-id-3 div.sk-dashed-wrapped {border: 1px dashed gray;margin: 0 0.4em 0.5em 0.4em;box-sizing: border-box;padding-bottom: 0.4em;background-color: white;}#sk-container-id-3 div.sk-label label {font-family: monospace;font-weight: bold;display: inline-block;line-height: 1.2em;}#sk-container-id-3 div.sk-label-container {text-align: center;}#sk-container-id-3 div.sk-container {/* jupyter's `normalize.less` sets `[hidden] { display: none; }` but bootstrap.min.css set `[hidden] { display: none !important; }` so we also need the `!important` here to be able to override the default hidden behavior on the sphinx rendered scikit-learn.org. See: https://github.com/scikit-learn/scikit-learn/issues/21755 */display: inline-block !important;position: relative;}#sk-container-id-3 div.sk-text-repr-fallback {display: none;}</style><div id=\"sk-container-id-3\" class=\"sk-top-container\"><div class=\"sk-text-repr-fallback\"><pre>SVC(C=1, coef0=1, degree=1, kernel=&#x27;poly&#x27;, probability=True)</pre><b>In a Jupyter environment, please rerun this cell to show the HTML representation or trust the notebook. <br />On GitHub, the HTML representation is unable to render, please try loading this page with nbviewer.org.</b></div><div class=\"sk-container\" hidden><div class=\"sk-item\"><div class=\"sk-estimator sk-toggleable\"><input class=\"sk-toggleable__control sk-hidden--visually\" id=\"sk-estimator-id-3\" type=\"checkbox\" checked><label for=\"sk-estimator-id-3\" class=\"sk-toggleable__label sk-toggleable__label-arrow\">SVC</label><div class=\"sk-toggleable__content\"><pre>SVC(C=1, coef0=1, degree=1, kernel=&#x27;poly&#x27;, probability=True)</pre></div></div></div></div></div>"
      ],
      "text/plain": [
       "SVC(C=1, coef0=1, degree=1, kernel='poly', probability=True)"
      ]
     },
     "execution_count": 16,
     "metadata": {},
     "output_type": "execute_result"
    }
   ],
   "source": [
    "# train 3 different classifiers\n",
    "from sklearn.ensemble import RandomForestClassifier, ExtraTreesClassifier\n",
    "from sklearn.svm import SVC\n",
    "\n",
    "rnd_clf = RandomForestClassifier(n_estimators=200, max_leaf_nodes=16, n_jobs=-1)\n",
    "rnd_clf.fit(X_train, y_train)\n",
    "\n",
    "ext_clf = ExtraTreesClassifier(n_estimators=200, max_leaf_nodes=8, n_jobs=-1)\n",
    "ext_clf.fit(X_train, y_train)\n",
    "\n",
    "svm_clf = SVC(kernel='poly', degree=1, coef0=1, C=1, probability=True)\n",
    "svm_clf.fit(X_train, y_train)"
   ]
  },
  {
   "cell_type": "code",
   "execution_count": 17,
   "id": "79183305-048b-4917-944c-a3780bed1434",
   "metadata": {},
   "outputs": [
    {
     "name": "stdout",
     "output_type": "stream",
     "text": [
      "RandomForestClassifier Accuracy: 0.819304152637486\n",
      "ExtraTreesClassifier Accuracy: 0.7326803387409448\n",
      "SVC Accuracy: 0.9393939393939394\n"
     ]
    }
   ],
   "source": [
    "# test the accuracy of each model\n",
    "from sklearn.metrics import accuracy_score\n",
    "\n",
    "y_pred_rnd_clf = rnd_clf.predict(X_test)\n",
    "y_pred_ext_clf = ext_clf.predict(X_test)\n",
    "y_pred_svm_clf = svm_clf.predict(X_test)\n",
    "\n",
    "print(f\"RandomForestClassifier Accuracy: {accuracy_score(y_test, y_pred_rnd_clf)}\")\n",
    "print(f\"ExtraTreesClassifier Accuracy: {accuracy_score(y_test, y_pred_ext_clf)}\")\n",
    "print(f\"SVC Accuracy: {accuracy_score(y_test, y_pred_svm_clf)}\")"
   ]
  },
  {
   "cell_type": "code",
   "execution_count": 18,
   "id": "a0d5dceb-de86-47b8-9787-eaa151a8b3a3",
   "metadata": {},
   "outputs": [
    {
     "name": "stdout",
     "output_type": "stream",
     "text": [
      "Hard VotingClassifier Accuracy: 0.8359351086623814\n",
      "Soft VotingClassifier Accuracy: 0.9379655137230895\n"
     ]
    }
   ],
   "source": [
    "# create an ensemble with the 3 models\n",
    "from sklearn.ensemble import VotingClassifier\n",
    "\n",
    "voting_clf_hard = VotingClassifier(\n",
    "    estimators=[('rf', rnd_clf), ('et', ext_clf), ('svm', svm_clf)],\n",
    "    voting='hard'\n",
    ")\n",
    "\n",
    "voting_clf_soft = VotingClassifier(\n",
    "    estimators=[('rf', rnd_clf), ('et', ext_clf), ('svm', svm_clf)],\n",
    "    voting='soft'\n",
    ")\n",
    "\n",
    "voting_clf_hard.fit(X_train, y_train)\n",
    "voting_clf_soft.fit(X_train, y_train)\n",
    "\n",
    "y_pred_voting_clf_hard = voting_clf_hard.predict(X_test)\n",
    "y_pred_voting_clf_soft = voting_clf_soft.predict(X_test)\n",
    "\n",
    "print(f\"Hard VotingClassifier Accuracy: {accuracy_score(y_test, y_pred_voting_clf_hard)}\")\n",
    "print(f\"Soft VotingClassifier Accuracy: {accuracy_score(y_test, y_pred_voting_clf_soft)}\")"
   ]
  },
  {
   "cell_type": "markdown",
   "id": "c3947694-08a7-4c19-b5d0-4032d981bd91",
   "metadata": {},
   "source": [
    "### Question 9"
   ]
  },
  {
   "cell_type": "code",
   "execution_count": 30,
   "id": "06bcedc9-580d-4912-ae33-46cd8430df93",
   "metadata": {},
   "outputs": [],
   "source": [
    "# training an stacking ensemble\n",
    "import numpy as np\n",
    "\n",
    "y_pred_val_rnd_clf = rnd_clf.predict(X_validate) # vector\n",
    "y_pred_val_ext_clf = ext_clf.predict(X_validate) # vector\n",
    "y_pred_val_svm_clf = svm_clf.predict(X_validate) # vector"
   ]
  },
  {
   "cell_type": "code",
   "execution_count": 39,
   "id": "683589e9-25cc-4168-91a7-f6b55eea64ba",
   "metadata": {},
   "outputs": [],
   "source": [
    "# create the new training set for the blender\n",
    "# from the predictions of the classifiers\n",
    "X_train_blender = np.array([\n",
    "    [y_pred_val_rnd_clf[0], y_pred_val_ext_clf[0], y_pred_val_svm_clf[0]]\n",
    "])\n",
    "\n",
    "for i, pred in enumerate(y_pred_val_rnd_clf):\n",
    "    if i > 0:\n",
    "        X_train_blender = np.vstack((X_train_blender, np.array([y_pred_val_rnd_clf[i], y_pred_val_ext_clf[i], y_pred_val_svm_clf[i]])))"
   ]
  },
  {
   "cell_type": "code",
   "execution_count": 40,
   "id": "ba36ebb5-e5e1-4063-8630-5577f866d939",
   "metadata": {},
   "outputs": [
    {
     "data": {
      "text/html": [
       "<style>#sk-container-id-5 {color: black;background-color: white;}#sk-container-id-5 pre{padding: 0;}#sk-container-id-5 div.sk-toggleable {background-color: white;}#sk-container-id-5 label.sk-toggleable__label {cursor: pointer;display: block;width: 100%;margin-bottom: 0;padding: 0.3em;box-sizing: border-box;text-align: center;}#sk-container-id-5 label.sk-toggleable__label-arrow:before {content: \"▸\";float: left;margin-right: 0.25em;color: #696969;}#sk-container-id-5 label.sk-toggleable__label-arrow:hover:before {color: black;}#sk-container-id-5 div.sk-estimator:hover label.sk-toggleable__label-arrow:before {color: black;}#sk-container-id-5 div.sk-toggleable__content {max-height: 0;max-width: 0;overflow: hidden;text-align: left;background-color: #f0f8ff;}#sk-container-id-5 div.sk-toggleable__content pre {margin: 0.2em;color: black;border-radius: 0.25em;background-color: #f0f8ff;}#sk-container-id-5 input.sk-toggleable__control:checked~div.sk-toggleable__content {max-height: 200px;max-width: 100%;overflow: auto;}#sk-container-id-5 input.sk-toggleable__control:checked~label.sk-toggleable__label-arrow:before {content: \"▾\";}#sk-container-id-5 div.sk-estimator input.sk-toggleable__control:checked~label.sk-toggleable__label {background-color: #d4ebff;}#sk-container-id-5 div.sk-label input.sk-toggleable__control:checked~label.sk-toggleable__label {background-color: #d4ebff;}#sk-container-id-5 input.sk-hidden--visually {border: 0;clip: rect(1px 1px 1px 1px);clip: rect(1px, 1px, 1px, 1px);height: 1px;margin: -1px;overflow: hidden;padding: 0;position: absolute;width: 1px;}#sk-container-id-5 div.sk-estimator {font-family: monospace;background-color: #f0f8ff;border: 1px dotted black;border-radius: 0.25em;box-sizing: border-box;margin-bottom: 0.5em;}#sk-container-id-5 div.sk-estimator:hover {background-color: #d4ebff;}#sk-container-id-5 div.sk-parallel-item::after {content: \"\";width: 100%;border-bottom: 1px solid gray;flex-grow: 1;}#sk-container-id-5 div.sk-label:hover label.sk-toggleable__label {background-color: #d4ebff;}#sk-container-id-5 div.sk-serial::before {content: \"\";position: absolute;border-left: 1px solid gray;box-sizing: border-box;top: 0;bottom: 0;left: 50%;z-index: 0;}#sk-container-id-5 div.sk-serial {display: flex;flex-direction: column;align-items: center;background-color: white;padding-right: 0.2em;padding-left: 0.2em;position: relative;}#sk-container-id-5 div.sk-item {position: relative;z-index: 1;}#sk-container-id-5 div.sk-parallel {display: flex;align-items: stretch;justify-content: center;background-color: white;position: relative;}#sk-container-id-5 div.sk-item::before, #sk-container-id-5 div.sk-parallel-item::before {content: \"\";position: absolute;border-left: 1px solid gray;box-sizing: border-box;top: 0;bottom: 0;left: 50%;z-index: -1;}#sk-container-id-5 div.sk-parallel-item {display: flex;flex-direction: column;z-index: 1;position: relative;background-color: white;}#sk-container-id-5 div.sk-parallel-item:first-child::after {align-self: flex-end;width: 50%;}#sk-container-id-5 div.sk-parallel-item:last-child::after {align-self: flex-start;width: 50%;}#sk-container-id-5 div.sk-parallel-item:only-child::after {width: 0;}#sk-container-id-5 div.sk-dashed-wrapped {border: 1px dashed gray;margin: 0 0.4em 0.5em 0.4em;box-sizing: border-box;padding-bottom: 0.4em;background-color: white;}#sk-container-id-5 div.sk-label label {font-family: monospace;font-weight: bold;display: inline-block;line-height: 1.2em;}#sk-container-id-5 div.sk-label-container {text-align: center;}#sk-container-id-5 div.sk-container {/* jupyter's `normalize.less` sets `[hidden] { display: none; }` but bootstrap.min.css set `[hidden] { display: none !important; }` so we also need the `!important` here to be able to override the default hidden behavior on the sphinx rendered scikit-learn.org. See: https://github.com/scikit-learn/scikit-learn/issues/21755 */display: inline-block !important;position: relative;}#sk-container-id-5 div.sk-text-repr-fallback {display: none;}</style><div id=\"sk-container-id-5\" class=\"sk-top-container\"><div class=\"sk-text-repr-fallback\"><pre>RandomForestClassifier(max_leaf_nodes=16, n_estimators=500, n_jobs=-1)</pre><b>In a Jupyter environment, please rerun this cell to show the HTML representation or trust the notebook. <br />On GitHub, the HTML representation is unable to render, please try loading this page with nbviewer.org.</b></div><div class=\"sk-container\" hidden><div class=\"sk-item\"><div class=\"sk-estimator sk-toggleable\"><input class=\"sk-toggleable__control sk-hidden--visually\" id=\"sk-estimator-id-5\" type=\"checkbox\" checked><label for=\"sk-estimator-id-5\" class=\"sk-toggleable__label sk-toggleable__label-arrow\">RandomForestClassifier</label><div class=\"sk-toggleable__content\"><pre>RandomForestClassifier(max_leaf_nodes=16, n_estimators=500, n_jobs=-1)</pre></div></div></div></div></div>"
      ],
      "text/plain": [
       "RandomForestClassifier(max_leaf_nodes=16, n_estimators=500, n_jobs=-1)"
      ]
     },
     "execution_count": 40,
     "metadata": {},
     "output_type": "execute_result"
    }
   ],
   "source": [
    "# training with new set\n",
    "st_clf = RandomForestClassifier(n_estimators=500, max_leaf_nodes=16, n_jobs=-1)\n",
    "st_clf.fit(X_train_blender, y_validate)"
   ]
  },
  {
   "cell_type": "code",
   "execution_count": 41,
   "id": "df4c540b-e042-4f87-8b20-7295af02d172",
   "metadata": {},
   "outputs": [],
   "source": [
    "# get predictions from test set with individual classifiers\n",
    "y_pred_test_rnd_clf = rnd_clf.predict(X_test) # vector\n",
    "y_pred_test_ext_clf = ext_clf.predict(X_test) # vector\n",
    "y_pred_test_svm_clf = svm_clf.predict(X_test) # vector\n",
    "\n",
    "# create the new test set for the stacking ensemble\n",
    "X_test_blender = np.array([\n",
    "    [y_pred_test_rnd_clf[0], y_pred_test_ext_clf[0], y_pred_test_svm_clf[0]]\n",
    "])\n",
    "\n",
    "for i, pred in enumerate(y_pred_test_rnd_clf):\n",
    "    if i > 0:\n",
    "        X_test_blender = np.vstack((X_test_blender, np.array([y_pred_test_rnd_clf[i], y_pred_test_ext_clf[i], y_pred_test_svm_clf[i]])))"
   ]
  },
  {
   "cell_type": "code",
   "execution_count": 42,
   "id": "53cf87c0-08d7-4454-b713-b6a237b753ce",
   "metadata": {},
   "outputs": [
    {
     "data": {
      "text/plain": [
       "0.9128660340781553"
      ]
     },
     "execution_count": 42,
     "metadata": {},
     "output_type": "execute_result"
    }
   ],
   "source": [
    "# making predictions with the stacking ensemble\n",
    "y_predict_st_clf = st_clf.predict(X_test_blender)\n",
    "accuracy_score(y_test, y_predict_st_clf)"
   ]
  }
 ],
 "metadata": {
  "kernelspec": {
   "display_name": "Python 3 (ipykernel)",
   "language": "python",
   "name": "python3"
  },
  "language_info": {
   "codemirror_mode": {
    "name": "ipython",
    "version": 3
   },
   "file_extension": ".py",
   "mimetype": "text/x-python",
   "name": "python",
   "nbconvert_exporter": "python",
   "pygments_lexer": "ipython3",
   "version": "3.10.11"
  }
 },
 "nbformat": 4,
 "nbformat_minor": 5
}
