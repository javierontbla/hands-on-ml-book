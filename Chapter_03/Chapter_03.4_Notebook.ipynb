{
 "cells": [
  {
   "cell_type": "code",
   "execution_count": 9,
   "id": "3302f096-714b-4bd7-a005-05c0a4127295",
   "metadata": {},
   "outputs": [
    {
     "name": "stdout",
     "output_type": "stream",
     "text": [
      "[[2.57630151]\n",
      " [2.8547479 ]]\n"
     ]
    }
   ],
   "source": [
    "import numpy as np\n",
    "#import matplotlib.pyplot as plt\n",
    "\n",
    "def gradiente_descendente_estocastico():\n",
    "    # 1. Crear conjunto de datos (y = ϴ0 + ϴ1 * x1)\n",
    "    m = 100 # no. de instancias\n",
    "    X = np.random.rand(m, 1) # atributos\n",
    "    y = 2 + 3 * X + np.random.rand(m, 1) # etiquetas (ecuación original: 2 + 3 * x1)\n",
    "    \n",
    "    # 2. Graficar conjunto de datos (deshabilitado - ignorar este paso)\n",
    "    #plt.scatter(X, y)\n",
    "    #plt.show()\n",
    "    \n",
    "    # 3. Establecer tasa de aprendizaje, no. de epochs y parámetros aleatorios\n",
    "    eta = 0.1 # tasa de aprendizaje\n",
    "    no_epochs = 50 # no. de epochs\n",
    "    theta = np.random.rand(2, 1) # parámetros aleatorios\n",
    "    \n",
    "    # 4. Agregar x0 a X\n",
    "    X = np.c_[np.ones((100, 1)), X]\n",
    "    \n",
    "    # 5. Dos bucles \"for\" para implementar el algoritmo\n",
    "    for epoch in range(0, no_epochs):\n",
    "        for i in range(0, m):\n",
    "            random_index = np.random.randint(0, m)\n",
    "            xi = X[random_index:random_index + 1]\n",
    "            yi = y[random_index:random_index + 1]\n",
    "            gradient = 2 * xi.T.dot(xi.dot(theta) - yi)\n",
    "            theta = theta - (eta * gradient)\n",
    "    \n",
    "    return theta\n",
    "\n",
    "print(gradiente_descendente_estocastico())"
   ]
  },
  {
   "cell_type": "code",
   "execution_count": null,
   "id": "e420a12c-0c88-459f-b19f-60ae0b01e245",
   "metadata": {},
   "outputs": [],
   "source": []
  }
 ],
 "metadata": {
  "kernelspec": {
   "display_name": "Python 3 (ipykernel)",
   "language": "python",
   "name": "python3"
  },
  "language_info": {
   "codemirror_mode": {
    "name": "ipython",
    "version": 3
   },
   "file_extension": ".py",
   "mimetype": "text/x-python",
   "name": "python",
   "nbconvert_exporter": "python",
   "pygments_lexer": "ipython3",
   "version": "3.11.5"
  }
 },
 "nbformat": 4,
 "nbformat_minor": 5
}
