{
 "cells": [
  {
   "cell_type": "code",
   "execution_count": 2,
   "id": "395b5e06-5566-48bd-aa47-2317ebf4e6e1",
   "metadata": {},
   "outputs": [],
   "source": [
    "import numpy as np\n",
    "#import matplotlib.pyplot as plt\n",
    "\n",
    "def gradiente_descendente_estocastico():\n",
    "    # 1. Crear conjunto de datos (y = ϴ0 * x0 + ϴ1 * x1)\n",
    "    m = 100 # no. de instancias\n",
    "    X = np.random.rand(m, 1) # atributos\n",
    "    y = 2 + 3 * X + np.random.rand(m, 1) # etiquetas (ecuación original: 2 + 3 * x1)\n",
    "    \n",
    "    # 2. Graficar conjunto de datos (deshabilitado - ignorar este paso)\n",
    "    #plt.scatter(X, y)\n",
    "    #plt.show()\n",
    "    \n",
    "    # 3. Establecer tasa de aprendizaje, no. de epochs y parámetros aleatorios\n",
    "    eta = 0.1 # tasa de aprendizaje\n",
    "    no_epochs = 50 # no. de epochs <-- cambio\n",
    "    theta = np.random.rand(2, 1) # parámetros aleatorios (inicialmente)\n",
    "    \n",
    "    # 4. Agregar x0 a X\n",
    "    X = np.c_[np.ones((100, 1)), X]\n",
    "    \n",
    "    # 5. Dos bucles \"for\" para implementar el gradiente descendente estocástico\n",
    "    for epoch in range(0, no_epochs):\n",
    "        for i in range(0, m): \n",
    "            random_index = np.random.randint(0, m) # tomamos un índice aleatorio en cada iteración\n",
    "            xi = X[random_index:random_index + 1] # seleccionamos la instancia aleatoria\n",
    "            yi = y[random_index:random_index + 1] # seleccionamos la instancia aleatoria\n",
    "            gradient = 2 * xi.T.dot(xi.dot(theta) - yi) # calculamos el gradiente de la función de coste\n",
    "            theta = theta - (eta * gradient) # calculamos los nuevos valores de theta\n",
    "\n",
    "    return theta # retornamos los parámetros óptimos"
   ]
  },
  {
   "cell_type": "code",
   "execution_count": null,
   "id": "71c304d8-4bb9-407d-84d7-7c780fcdb51f",
   "metadata": {},
   "outputs": [],
   "source": []
  }
 ],
 "metadata": {
  "kernelspec": {
   "display_name": "Python 3 (ipykernel)",
   "language": "python",
   "name": "python3"
  },
  "language_info": {
   "codemirror_mode": {
    "name": "ipython",
    "version": 3
   },
   "file_extension": ".py",
   "mimetype": "text/x-python",
   "name": "python",
   "nbconvert_exporter": "python",
   "pygments_lexer": "ipython3",
   "version": "3.11.5"
  }
 },
 "nbformat": 4,
 "nbformat_minor": 5
}
