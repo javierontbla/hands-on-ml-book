{
 "cells": [
  {
   "cell_type": "code",
   "execution_count": 8,
   "id": "496d524c-9773-4b3f-b35a-aef16365cbdb",
   "metadata": {},
   "outputs": [
    {
     "name": "stdout",
     "output_type": "stream",
     "text": [
      "[[2.5040676 ]\n",
      " [2.96124741]]\n"
     ]
    }
   ],
   "source": [
    "import numpy as np\n",
    "#import matplotlib.pyplot as plt\n",
    "\n",
    "def gradiente_descendente_mini_batch():\n",
    "    # 1. Crear conjunto de datos (y = ϴ0 * x0 + ϴ1 * x1)\n",
    "    m = 100 # no. de instancias\n",
    "    X = np.random.rand(m, 1) # atributos\n",
    "    y = 2 + 3 * X + np.random.rand(m, 1) # etiquetas (ecuación original: 2 + 3 * x1)\n",
    "    \n",
    "    # 2. Graficar conjunto de datos (deshabilitado - ignorar este paso)\n",
    "    #plt.scatter(X, y)\n",
    "    #plt.show()\n",
    "    \n",
    "    # 3. Establecer tasa de aprendizaje, no. de iteraciones, tamaño de batch y parámetros aleatorios\n",
    "    eta = 0.1 # tasa de aprendizaje\n",
    "    no_iterations = 1000 # no. de iteraciones\n",
    "    batch_size = 36 # tamaño de mini batch (grupo de 36 instancias)\n",
    "    theta = np.random.rand(2, 1) # parámetros aleatorios (inicialmente)\n",
    "    \n",
    "    # 4. Agregar x0 a X\n",
    "    X = np.c_[np.ones((100, 1)), X]\n",
    "    \n",
    "    # 5. Bucle \"for\" para implementar el gradiente descendente mini-batch\n",
    "    for iteration in range(0, no_iterations):\n",
    "        max_high = X.shape[0] - batch_size # calcular el índice máximo aleatorio posible para seleccionar el mini batch\n",
    "        random_index = np.random.randint(0, high=max_high, size=1)[0] # seleccionar índice aleatorio dentro de los límites\n",
    "        X_mini_batch = X[random_index:random_index + batch_size] # seleccionamos el mini batch aleatorio (atributos)\n",
    "        y_mini_batch = y[random_index:random_index + batch_size] # seleccionamos el mini batch aleatorio (etiquetas)\n",
    "        gradient = (2 / batch_size) * (X_mini_batch.T.dot(X_mini_batch.dot(theta) - y_mini_batch))\n",
    "        theta = theta - (eta * gradient)\n",
    "\n",
    "    return theta # retornamos los parámetros óptimos\n",
    "\n",
    "print(gradiente_descendente_mini_batch())"
   ]
  }
 ],
 "metadata": {
  "kernelspec": {
   "display_name": "Python 3 (ipykernel)",
   "language": "python",
   "name": "python3"
  },
  "language_info": {
   "codemirror_mode": {
    "name": "ipython",
    "version": 3
   },
   "file_extension": ".py",
   "mimetype": "text/x-python",
   "name": "python",
   "nbconvert_exporter": "python",
   "pygments_lexer": "ipython3",
   "version": "3.11.5"
  }
 },
 "nbformat": 4,
 "nbformat_minor": 5
}
