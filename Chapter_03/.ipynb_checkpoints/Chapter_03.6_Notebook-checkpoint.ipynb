{
 "cells": [
  {
   "cell_type": "code",
   "execution_count": 1,
   "id": "496d524c-9773-4b3f-b35a-aef16365cbdb",
   "metadata": {},
   "outputs": [
    {
     "name": "stdout",
     "output_type": "stream",
     "text": [
      "[[2.52921523]\n",
      " [2.92117156]]\n"
     ]
    }
   ],
   "source": [
    "import numpy as np\n",
    "#import matplotlib.pyplot as plt\n",
    "\n",
    "def gradiente_descendente_mini_batch():\n",
    "    # 1. Crear conjunto de datos (y = ϴ0 * x0 + ϴ1 * x1)\n",
    "    m = 100 # no. de instancias\n",
    "    X = np.random.rand(m, 1) # atributos\n",
    "    y = 2 + 3 * X + np.random.rand(m, 1) # etiquetas (ecuación original: 2 + 3 * x1)\n",
    "    \n",
    "    # 2. Graficar conjunto de datos (deshabilitado - ignorar este paso)\n",
    "    #plt.scatter(X, y)\n",
    "    #plt.show()\n",
    "    \n",
    "    # 3. Establecer tasa de aprendizaje, no. de iteraciones, tamaño de batch y parámetros aleatorios\n",
    "    eta = 0.1 # tasa de aprendizaje\n",
    "    no_iterations = 1000 # no. de iteraciones\n",
    "    batch_size = 36 # tamaño de mini batch (grupo de 36 instancias)\n",
    "    theta = np.random.rand(2, 1) # parámetros aleatorios (inicialmente)\n",
    "    \n",
    "    # 4. Agregar x0 a X\n",
    "    X = np.c_[np.ones((100, 1)), X]\n",
    "    \n",
    "    # 5. Bucle \"for\" para implementar el gradiente descendente mini-batch\n",
    "    # ejemplo --> [0, 6, 4, 5, 1, 4, 4, 3, 9, 5, 1, 2, 2, 3]\n",
    "    for itearion in range(0, no_iterations):\n",
    "        max_start_index = X.shape[0] - batch_size # máx. índice de inicio de mini batch\n",
    "        start_index = np.random.randint(max_start_index) # inicio de mini batch\n",
    "        end_index = start_index + batch_size # fin de mini batch\n",
    "        \n",
    "        X_mini_batch = X[start_index:end_index] # seleccionamos el mini batch aleatorio (atributos)\n",
    "        y_mini_batch = y[start_index:end_index] # seleccionamos el mini batch aleatorio (etiquetas)\n",
    "        \n",
    "        gradient = (2 / batch_size) * (X_mini_batch.T.dot(X_mini_batch.dot(theta) - y_mini_batch))\n",
    "        theta = theta - (eta * gradient)\n",
    "\n",
    "    return theta # retornamos los parámetros óptimos\n",
    "\n",
    "print(gradiente_descendente_mini_batch())"
   ]
  },
  {
   "cell_type": "code",
   "execution_count": null,
   "id": "2d60961a-0d72-446f-a4a3-19382256d20a",
   "metadata": {},
   "outputs": [],
   "source": []
  }
 ],
 "metadata": {
  "kernelspec": {
   "display_name": "Python 3 (ipykernel)",
   "language": "python",
   "name": "python3"
  },
  "language_info": {
   "codemirror_mode": {
    "name": "ipython",
    "version": 3
   },
   "file_extension": ".py",
   "mimetype": "text/x-python",
   "name": "python",
   "nbconvert_exporter": "python",
   "pygments_lexer": "ipython3",
   "version": "3.11.5"
  }
 },
 "nbformat": 4,
 "nbformat_minor": 5
}
