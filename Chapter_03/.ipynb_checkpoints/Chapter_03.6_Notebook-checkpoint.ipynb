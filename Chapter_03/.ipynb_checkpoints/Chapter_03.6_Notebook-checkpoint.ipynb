{
 "cells": [
  {
   "cell_type": "code",
   "execution_count": 12,
   "id": "496d524c-9773-4b3f-b35a-aef16365cbdb",
   "metadata": {},
   "outputs": [
    {
     "name": "stdout",
     "output_type": "stream",
     "text": [
      "[[2.54448463]\n",
      " [2.84435567]]\n"
     ]
    }
   ],
   "source": [
    "import numpy as np\n",
    "#import matplotlib.pyplot as plt\n",
    "\n",
    "def gradiente_descendente_mini_batch():\n",
    "    # 1. Crear conjunto de datos (y = ϴ0 * x0 + ϴ1 * x1)\n",
    "    m = 100 # no. de instancias\n",
    "    X = np.random.rand(m, 1) # atributos\n",
    "    y = 2 + 3 * X + np.random.rand(m, 1) # etiquetas (ecuación original: 2 + 3 * x1)\n",
    "    \n",
    "    # 2. Graficar conjunto de datos (deshabilitado - ignorar este paso)\n",
    "    #plt.scatter(X, y)\n",
    "    #plt.show()\n",
    "    \n",
    "    # 3. Establecer tasa de aprendizaje, no. de iteraciones, tamaño de mini-batch y parámetros aleatorios iniciales\n",
    "    eta = 0.1 # tasa de aprendizaje\n",
    "    no_iterations = 1000 # no. de iteraciones\n",
    "    batch_size = 36 # tamaño de mini-batch (grupo de 36 instancias)\n",
    "    theta = np.random.rand(2, 1) # parámetros aleatorios (iniciales)\n",
    "    \n",
    "    # 4. Agregar x0 a X\n",
    "    X = np.c_[np.ones((100, 1)), X]\n",
    "    \n",
    "    # 5. Bucle \"for\" para implementar el gradiente descendente mini-batch\n",
    "    for iteration in range(0, no_iterations):\n",
    "        max_start_index = m - batch_size # máx. índice de inicio de mini batch\n",
    "        start_index = np.random.randint(0, max_start_index) # inicio de mini batch\n",
    "        end_index = start_index + batch_size # fin de mini batch\n",
    "\n",
    "        X_mini_batch = X[start_index:end_index] # seleccionamos el mini batch aleatorio (atributos)\n",
    "        y_mini_batch = y[start_index:end_index] # seleccionamos el mini batch aleatorio (etiquetas)\n",
    "\n",
    "        gradient = (2 / batch_size) * X_mini_batch.T.dot(X_mini_batch.dot(theta) - y_mini_batch) # sustituimos en fórmula\n",
    "        theta = theta - (eta * gradient) # calculamos nuevos valores de theta\n",
    "\n",
    "    return theta # retornamos los parámetros óptimos"
   ]
  },
  {
   "cell_type": "code",
   "execution_count": null,
   "id": "c56b0d20-8447-4e18-987a-9957adb03b37",
   "metadata": {},
   "outputs": [],
   "source": []
  }
 ],
 "metadata": {
  "kernelspec": {
   "display_name": "Python 3 (ipykernel)",
   "language": "python",
   "name": "python3"
  },
  "language_info": {
   "codemirror_mode": {
    "name": "ipython",
    "version": 3
   },
   "file_extension": ".py",
   "mimetype": "text/x-python",
   "name": "python",
   "nbconvert_exporter": "python",
   "pygments_lexer": "ipython3",
   "version": "3.11.5"
  }
 },
 "nbformat": 4,
 "nbformat_minor": 5
}
