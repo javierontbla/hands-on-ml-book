{
 "cells": [
  {
   "cell_type": "code",
   "execution_count": 5,
   "id": "c84b0288-4084-474e-ac8f-8237e9b4650a",
   "metadata": {},
   "outputs": [
    {
     "ename": "SyntaxError",
     "evalue": "invalid syntax (468364584.py, line 3)",
     "output_type": "error",
     "traceback": [
      "\u001b[1;36m  Cell \u001b[1;32mIn[5], line 3\u001b[1;36m\u001b[0m\n\u001b[1;33m    import sklearn.preprocessing import PolynomialFeatures\u001b[0m\n\u001b[1;37m                                 ^\u001b[0m\n\u001b[1;31mSyntaxError\u001b[0m\u001b[1;31m:\u001b[0m invalid syntax\n"
     ]
    }
   ],
   "source": [
    "import numpy as np\n",
    "import matplotlib.pyplot as plt\n",
    "import sklearn.preprocessing import PolynomialFeatures\n",
    "\n",
    "# generar el conjunto de datos a partir de una función cuadrática\n",
    "m = 100\n",
    "X = 6 * np.random.rand(m, 1) - 3 \n",
    "y = 2 + X + 0.5 * X ** 2 + np.random.rand(m, 1) # 2 + 1x + 0.5x2\n",
    "\n",
    "# generar atributos polinomiales\n",
    "poly_features = PolynomialFeatures(degree=2, include_bias=False)\n",
    "X_poly = poly_features.fit_transform(X)\n",
    "print(f\"Original: {X[0]} || Polinomial: {X_poly[0]}\")\n",
    "\n",
    "\n",
    "plt.scatter(X, y)\n",
    "plt.show()"
   ]
  },
  {
   "cell_type": "code",
   "execution_count": null,
   "id": "41ff8c23-c324-44df-ba98-49b6136dbadd",
   "metadata": {},
   "outputs": [],
   "source": []
  }
 ],
 "metadata": {
  "kernelspec": {
   "display_name": "Python 3 (ipykernel)",
   "language": "python",
   "name": "python3"
  },
  "language_info": {
   "codemirror_mode": {
    "name": "ipython",
    "version": 3
   },
   "file_extension": ".py",
   "mimetype": "text/x-python",
   "name": "python",
   "nbconvert_exporter": "python",
   "pygments_lexer": "ipython3",
   "version": "3.11.5"
  }
 },
 "nbformat": 4,
 "nbformat_minor": 5
}
