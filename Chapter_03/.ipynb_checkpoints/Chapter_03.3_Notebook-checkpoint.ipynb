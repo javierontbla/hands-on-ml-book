{
 "cells": [
  {
   "cell_type": "code",
   "execution_count": 1,
   "id": "9cbb20b9-dfc3-442a-96e0-37f3eec59647",
   "metadata": {},
   "outputs": [],
   "source": [
    "from sklearn.linear_model import LinearRegression\n",
    "from sklearn.metrics import mean_squared_error\n",
    "from sklearn.model_selection import cross_val_score, train_test_split\n",
    "import matplotlib.pyplot as plt\n",
    "import numpy as np\n",
    "\n",
    "# 1. generar conjunto de datos\n",
    "m = 100 \n",
    "X = 6 * np.random.rand(m, 1)\n",
    "y = 2 + X + np.random.rand(m, 1) * 2\n",
    "\n",
    "# 2. conjunto para graficar línea de regresión\n",
    "X_plot = np.linspace(0, 6, m).reshape(m, 1)\n",
    "y_plot = lin_reg.predict(X_plot)\n",
    "\n",
    "# 3. crear gráficos\n",
    "plt.scatter(X, y, s=20, c='#18EF62', alpha=0.9)\n",
    "plt.plot(X_plot, y_plot, color='#3AAAFF', linewidth=4)\n",
    "\n",
    "# 4. dividir en conjunto de datos de entrenamiento y prueba\n",
    "X_train, X_test, y_train, y_test = train_test_split(X, y, test_size=0.2)\n",
    "print(X_train.shape, X_test.shape)\n",
    "\n",
    "# 5. entrenar modelo\n",
    "lin_reg = LinearRegression()\n",
    "lin_reg.fit(X_train, y_train)\n",
    "\n",
    "# 6. evaluar modelo (ECM) con X_train\n",
    "y_train_pred = lin_reg.predict(X_train)\n",
    "train_mse = mean_squared_error(y_train, y_train_pred)\n",
    "print(f\"ECM Entrenamiento: {train_mse}\")\n",
    "\n",
    "# 7. evaluar modelo (X_train) con Cross-Validation\n",
    "cross_scores_train = cross_val_score(lin_reg, X_train, y_train, scoring='neg_mean_squared_error', cv=10)\n",
    "print(-cross_scores_train)\n",
    "\n",
    "# 8. evaluar modelo (ECM), pero ahora con X_train\n",
    "y_test_pred = lin_reg.predict(X_test)\n",
    "test_mse = mean_squared_error(y_test, y_test_pred)\n",
    "print(f\"ECM Prueba: {test_mse}\")"
   ]
  }
 ],
 "metadata": {
  "kernelspec": {
   "display_name": "Python 3 (ipykernel)",
   "language": "python",
   "name": "python3"
  },
  "language_info": {
   "codemirror_mode": {
    "name": "ipython",
    "version": 3
   },
   "file_extension": ".py",
   "mimetype": "text/x-python",
   "name": "python",
   "nbconvert_exporter": "python",
   "pygments_lexer": "ipython3",
   "version": "3.11.5"
  }
 },
 "nbformat": 4,
 "nbformat_minor": 5
}
