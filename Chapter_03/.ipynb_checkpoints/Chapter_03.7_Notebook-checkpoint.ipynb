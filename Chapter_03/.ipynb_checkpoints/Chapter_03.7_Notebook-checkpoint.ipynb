{
 "cells": [
  {
   "cell_type": "code",
   "execution_count": 11,
   "id": "ec9ee61c-6148-46aa-a3d5-9edaf5911f1d",
   "metadata": {},
   "outputs": [
    {
     "data": {
      "text/plain": [
       "{'ecuacion_normal': [2.44163734328691, 3.026812352861576],\n",
       " 'scikit_learn': [2.441637343286909, 3.0268123528615756]}"
      ]
     },
     "execution_count": 11,
     "metadata": {},
     "output_type": "execute_result"
    }
   ],
   "source": [
    "import numpy as np\n",
    "from sklearn.linear_model import LinearRegression\n",
    "\n",
    "def ecuacion_normal_y_scikit_learn():\n",
    "    # 1. Crear conjunto de datos (y = ϴ0 * x0 + ϴ1 * x1)\n",
    "    m = 100 # no. de instancias\n",
    "    X = np.random.rand(m, 1) # atributos\n",
    "    y = 2 + 3 * X + np.random.rand(m, 1) # etiquetas (ecuación original: 2 + 3 * x1)\n",
    "\n",
    "    # 2. Agregar x0 a X (columnas de 1s)\n",
    "    X_ones = np.c_[np.ones((100, 1)), X]\n",
    "    \n",
    "    # 3. Implementar ecuación normal (utilizar X_ones)\n",
    "    theta_normal_equation = np.linalg.inv(X_ones.T.dot(X_ones)).dot(X_ones.T).dot(y)\n",
    "    \n",
    "    # 4. Implementar scikit-learn (LinearRegression - utilizar X)\n",
    "    lin_reg = LinearRegression() # declaramos una nueva instancia de la clase de LinearRegreesion()\n",
    "    lin_reg.fit(X, y) # entrenamos el modelo con el método .fit()\n",
    "\n",
    "    # retornamos los parámetros óptimos (no modificar nada debajo de esta línea)\n",
    "    return { \n",
    "        'ecuacion_normal': [theta_normal_equation[0][0], theta_normal_equation[1][0]],\n",
    "        'scikit_learn': [lin_reg.intercept_[0], lin_reg.coef_[0][0]]\n",
    "    }\n",
    "\n",
    "ecuacion_normal_y_scikit_learn()"
   ]
  },
  {
   "cell_type": "code",
   "execution_count": null,
   "id": "24d87811-5743-4699-82e3-ee8855d96569",
   "metadata": {},
   "outputs": [],
   "source": []
  }
 ],
 "metadata": {
  "kernelspec": {
   "display_name": "Python 3 (ipykernel)",
   "language": "python",
   "name": "python3"
  },
  "language_info": {
   "codemirror_mode": {
    "name": "ipython",
    "version": 3
   },
   "file_extension": ".py",
   "mimetype": "text/x-python",
   "name": "python",
   "nbconvert_exporter": "python",
   "pygments_lexer": "ipython3",
   "version": "3.11.5"
  }
 },
 "nbformat": 4,
 "nbformat_minor": 5
}
